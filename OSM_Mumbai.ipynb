{
 "cells": [
  {
   "cell_type": "markdown",
   "metadata": {},
   "source": [
    "# OpenStreetMap: Auditing_Cleaning_Analysing"
   ]
  },
  {
   "cell_type": "markdown",
   "metadata": {},
   "source": [
    "## Map Area --> Mumbai, India\n",
    "-----------------------------------------------------------------------------------------------------------------------------"
   ]
  },
  {
   "cell_type": "markdown",
   "metadata": {},
   "source": [
    "Lies on the west cost of India, Mumbai city is the capital of Maharashtra. Previously known as Bombay, not only it is India's largest city, but also, one of the world's largest and most densely populated areas. Mumbai, a cosmopolitan metropolis, is one of the most prosperous cities in India and is making a significant contribution to the economic development of the country. It has the enormous potential to cater to the tourism of the nation.\n",
    "\n",
    "Besides the above points, I chose to analyse map dataset of Mumbai city because it is place of my maternal house. I have been there many times and visited many places. So, there is a personal interest to contribute in the improvement of this particular dataset.\n",
    "\n"
   ]
  },
  {
   "cell_type": "markdown",
   "metadata": {},
   "source": [
    "> [OpenStreetMap of Mumbai](https://www.openstreetmap.org/search?query=mumbai#map=11/18.8748/73.0563)<br>\n",
    "> [Custom Extract](https://mapzen.com/data/metro-extracts/your-extracts/02d49b5ccdf9)<br>\n",
    "> [Metro Extract](https://mapzen.com/data/metro-extracts)"
   ]
  },
  {
   "cell_type": "markdown",
   "metadata": {
    "collapsed": true
   },
   "source": [
    "## Findings of auditing \n",
    "--------------------------------------------------------------------------------------------------------------------------"
   ]
  },
  {
   "cell_type": "markdown",
   "metadata": {},
   "source": [
    "- **Inconsistent postcodes :** A proper postcode of Mumbai conventionally consists of 6 numeric digits. However, it is found that few of them do not follow this convention. Also, few of these had a whitespace in the middle, unlike others.\n",
    "\n",
    "- **Abbreviated street name :** Following are the observations:\n",
    "                                 1. \"Road\" was abbreviated as 'Rd'\n",
    "                                 2. \"Society\" was abbreviated as 'Soc.'\n",
    "                                 3. \"Building was abbreviated as 'bld.'\"\n",
    "                                 4. \"Colony\" was mispelled as 'Coloney'\n",
    "                                 \n",
    "- **Language specification in 2-letter code :** The name *Mumbai* is specified in different languages. These languages are written in 2-letter code.*For example:'es' for Spanish and and 'mr' for Marathi*. I found it too difficult to recognize the language in which the name was written.\n",
    "\n",
    "- **Unrealistic names of places :** Few names of places were over-abbreviated or they were too weird to be names. \n",
    "-----------------------------------------------------------------------------------------------------------------------------\n",
    "\n",
    "                          "
   ]
  },
  {
   "cell_type": "markdown",
   "metadata": {},
   "source": [
    "## Cleaning  the problems encountered in map\n",
    "---------------------------"
   ]
  },
  {
   "cell_type": "markdown",
   "metadata": {},
   "source": [
    "- **Cleaning Postcodes:**\n",
    "\n",
    "Two inaccurate formats are found in post codes.\n",
    "   1. Incorrect postcodes, not exactly a 6 digit code.\n",
    "   2. Whitespace in the center of few postcodes.\n",
    " \n",
    "\n",
    "``` python\n",
    "    def update_postcode(tag):\n",
    "    if tag == '40049':                                       #replace by correct postcodes \n",
    "        return '400049'\n",
    "    elif tag == '4000072':\n",
    "        return '400072'\n",
    "    elif tag == '40058':\n",
    "        return '400058'\n",
    "    elif tag == '40076':\n",
    "        return '400076'\n",
    "    elif tag == '40001':\n",
    "        return '400001'\n",
    "    elif tag == '123':\n",
    "        return '400089' \n",
    "    elif tag == '48147':\n",
    "        return '400054'\n",
    "    else: \n",
    "        return tag.replace(\" \",\"\")                           #replace whitespace (\" \") with empty string (\"\")     \n",
    "```\n",
    "With the help of update_postcode() method, the suspicious and incorrect postcodes have been replaced by the verified postcodes to maintain the uniformity of the data. \n",
    "\n",
    "The correct postcodes have been searched and verified manually.\n",
    "\n",
    "\n",
    "\n",
    "----------"
   ]
  },
  {
   "cell_type": "markdown",
   "metadata": {},
   "source": [
    "- ** Cleaning street names**"
   ]
  },
  {
   "cell_type": "markdown",
   "metadata": {},
   "source": [
    "The abbreviated street names are cleaned by using the update_name() funtion.\n",
    "\n",
    "```python\n",
    "def update_name(name, mapping): # 'name' is the name of place to be cleaned\n",
    "    m = street_type_re.search(name)\n",
    "    if m:\n",
    "        if m.group() not in expected:                          \n",
    "        # expected = [\"Street\", \"Lane\", \"Road\", \"Nagar\", \"Marg\", \"Colony\", \"Society\", \"Residency\", \"Building\"] \n",
    "            if m.group() in mapping.keys():\n",
    "                name = re.sub(m.group(), mapping[m.group()], name)\n",
    "    return name      #returns cleaned name  \n",
    "\n",
    "# 'mapping' is a dictionary where key is the abbreviated street name and value is its corrected form.\n",
    "\n",
    "\n",
    "```\n",
    "*Result of cleaning*   \n",
    "\n",
    "**\"Ashok Guru Prasad Soc.\"**\n",
    "> \"Ashok Guru Prasad Society\"\n",
    "\n",
    "**\"Jitendra Rd\":**\n",
    ">\"Jitendra Road\"\n",
    "                \n",
    "-------"
   ]
  },
  {
   "cell_type": "markdown",
   "metadata": {},
   "source": [
    "- ** Cleaning language specification **\n",
    "\n",
    "The following function is used to convert 2-letter code into 3-letter code to recognize natural languages for better understanding.\n",
    "``` python\n",
    "def keyname(element):                              # tag element decribing nodes or ways\n",
    "    if 'name:' in element.attrib['k']:\n",
    "        language.append(element.attrib['k'])\n",
    "        key_val = element.attrib['k']\n",
    "        if key_val in language:\n",
    "            a = key_val.split(':')                 #value of key attribute of such elements \n",
    "            if code_mapping[a[1]]:\n",
    "                element.attrib['k'] = a[0]+':'+code_mapping[a[1]]\n",
    "                return element.attrib['k']\n",
    "                \n",
    "#'code_mapping' is a dictionary where key refer to 2-letter code and value refer to 3-letter code.\n",
    "```\n",
    "While my research I found that both 2-letter code and 3-letter code are ISO recognized.\n",
    "\n",
    "*Result of cleaning*\n",
    "\n",
    "**en** for English changed to:\n",
    "> eng\n",
    "\n",
    "**es** for Spanish changed to:\n",
    "> spa\n",
    "\n",
    "**pa** for Punjabi changed to:\n",
    "> pan\n",
    "\n",
    "**sv** for Swedish changed to:\n",
    "> swe\n",
    "\n",
    "----------"
   ]
  },
  {
   "cell_type": "markdown",
   "metadata": {},
   "source": [
    "- **Dealing with unrealistic names of places.**\n",
    "\n",
    "The following code finds names of places consisting of number of characters less than 4."
   ]
  },
  {
   "cell_type": "code",
   "execution_count": 3,
   "metadata": {},
   "outputs": [
    {
     "name": "stdout",
     "output_type": "stream",
     "text": [
      "{'k': 'name', 'v': 'K J'}\n",
      "{'k': 'name', 'v': 'ccd'}\n",
      "{'k': 'name', 'v': 'B5'}\n",
      "{'k': 'name', 'v': 'B8'}\n",
      "{'k': 'name', 'v': 'IFC'}\n",
      "{'k': 'name', 'v': '15'}\n",
      "{'k': 'name', 'v': '9'}\n",
      "{'k': 'name', 'v': 'Pam'}\n",
      "{'k': 'name', 'v': 'N1'}\n",
      "{'k': 'name', 'v': 'C11'}\n",
      "{'k': 'name', 'v': 'C19'}\n",
      "{'k': 'name', 'v': 'C2'}\n",
      "{'k': 'name', 'v': 'F-G'}\n",
      "{'k': 'name', 'v': '9'}\n",
      "{'k': 'name', 'v': '1'}\n"
     ]
    }
   ],
   "source": [
    "import xml.etree.cElementTree as ET\n",
    "SAMPLE_FILE = \"sample_file.osm\"\n",
    "def names(filename):\n",
    "    t=0\n",
    "    for event, elem in ET.iterparse(filename):\n",
    "        if elem.tag=='node' or elem.tag=='way' :\n",
    "            for tag in elem.iter('tag'):\n",
    "                if tag.attrib['k'] == 'name' and len(tag.attrib['v']) <=3:\n",
    "                    print tag.attrib\n",
    "           \n",
    "names(SAMPLE_FILE)"
   ]
  },
  {
   "cell_type": "markdown",
   "metadata": {},
   "source": [
    "We can see that the value attibute contains name that do not specify any place. Some of these are numerical and alpha-numerical that does not qualifies as a *name*.\n",
    "Unfortunately, this problem cannot be corrected programatically. Thus we can simply ignore it. It is mentioned only as a part of analysis. \n",
    "\n",
    "\n",
    "----"
   ]
  },
  {
   "cell_type": "markdown",
   "metadata": {},
   "source": [
    "## Overview of the dataset\n",
    "----\n",
    "\n",
    "Certain fundamental statistics has been performed to describe the dataset under analysis in a better way. Database queries has been used."
   ]
  },
  {
   "cell_type": "markdown",
   "metadata": {},
   "source": [
    " ###  File size\n",
    "\n",
    "Given below is the size of OSM file of Mumbai, the sample file and the csv files used in analysis.\n",
    "\n",
    "```text\n",
    "\n",
    "mumbai.osm-----------------------206.7 MB \n",
    "sample_file.osm-------------------13.1 MB \n",
    "nodes.csv------------------------ 82.1 MB\n",
    "nodes_tags.csv-------------------- 1.3 MB\n",
    "ways.csv-------------------------- 8.6 MB\n",
    "ways_nodes.csv------------------- 27.4 MB\n",
    "ways_tags.csv--------------------- 5.7 MB\n",
    "\n",
    "\n",
    "```"
   ]
  },
  {
   "cell_type": "markdown",
   "metadata": {},
   "source": [
    " ### Number of node\n",
    "\n",
    "```mysql\n",
    "SELECT count(*)FROM nodes;\n",
    "```\n",
    "> 1030102"
   ]
  },
  {
   "cell_type": "markdown",
   "metadata": {},
   "source": [
    " ### Number of ways\n",
    "\n",
    "```mysql\n",
    "Select count(*) from ways;\n",
    "```\n",
    ">147982"
   ]
  },
  {
   "cell_type": "markdown",
   "metadata": {},
   "source": [
    "### Number of nodes in ways\n",
    "\n",
    "``` mysql\n",
    "SELECT count(*) FROM ways_nodes;\n",
    "```\n",
    "> 1190689"
   ]
  },
  {
   "cell_type": "markdown",
   "metadata": {},
   "source": [
    "### Number of tags in nodes+ways\n",
    "\n",
    "```mysql\n",
    "SELECT count(id)\n",
    " FROM\n",
    "(SELECT id FROM ways_tags UNION ALL SELECT id FROM nodes_tags);\n",
    "```\n",
    "> 214017"
   ]
  },
  {
   "cell_type": "markdown",
   "metadata": {},
   "source": [
    "### Total number of unique users\n",
    "\n",
    "```mysql\n",
    "SELECT count(distinct(t.uid))\n",
    " FROM\n",
    "(SELECT uid FROM nodes UNION ALL SELECT uid FROM ways) t;\n",
    "```\n",
    "> 1487"
   ]
  },
  {
   "cell_type": "markdown",
   "metadata": {},
   "source": [
    "### Top 10 contributers of the map\n",
    "\n",
    "``` mysql\n",
    "\n",
    "SELECT user, count(uid)\n",
    "FROM (SELECT uid FROM nodes UNION ALL SELECT uid FROM ways) \n",
    "GROUP BY uid\n",
    "ORDER BY count(uid) DESC\n",
    "LIMIT 10;\n",
    "\n",
    "```\n",
    "\n",
    "> 1. PlaneMad || 59892<br>\n",
    "\n",
    "> 2. Ashok09 || 49201<br>\n",
    " \n",
    "> 3. Narsimulu || 42272<br>\n",
    " \n",
    " >4. Srikanth07 || 42230<br>\n",
    " \n",
    "> 5. Naresh08 || 32815<br>\n",
    " \n",
    " >6. anthony1 || 31554<br>\n",
    " \n",
    " >7. pvprasad ||  29686<br>\n",
    " \n",
    " >8. premkumar ||  27797<br>\n",
    " \n",
    " >9. venkatkotha || 26736<br>\n",
    " \n",
    " >10. maheshrkm ||  25827<br>\n"
   ]
  },
  {
   "cell_type": "code",
   "execution_count": 119,
   "metadata": {},
   "outputs": [
    {
     "data": {
      "text/plain": [
       "<matplotlib.text.Text at 0x162262b0>"
      ]
     },
     "execution_count": 119,
     "metadata": {},
     "output_type": "execute_result"
    },
    {
     "data": {
      "image/png": "[encoded data removed]",
      "text/plain": [
       "<matplotlib.figure.Figure at 0x145cb400>"
      ]
     },
     "metadata": {},
     "output_type": "display_data"
    }
   ],
   "source": [
    "topUsers = pd.DataFrame([59892,49201,42272,42230,32815,31554,29686,27797,26736,25827],\n",
    "                       index= ['1', '2', '3', '4','5','6','7','8','9','10'])\n",
    "\n",
    "a4_dims = (11.7, 4.5)\n",
    "topUsers.plot(kind = 'bar',title = 'Top users vs Number of contribution',\n",
    "             color=sns.color_palette(\"cubehelix\", 10),figsize=a4_dims,fontsize = 12 )\n",
    "plt.ylabel('Contribution in numbers')\n",
    "plt.xlabel('Rank of top 10 users')"
   ]
  },
  {
   "cell_type": "markdown",
   "metadata": {},
   "source": [
    "### Number of user with least contribution  \n",
    "\n",
    "```mysql\n",
    "SELECT count(*) \n",
    "FROM\n",
    "(SELECT user, count(*)\n",
    "FROM \n",
    "(SELECT user FROM nodes UNION ALL SELECT user FROM ways)\n",
    "GROUP BY user\n",
    "HAVING count(*) = 1);\n",
    "```\n",
    "> 427\n",
    "\n",
    "Out of 1487 unique users 427 made just one contribution to the dataset. This indicates that contibution is highly skewed towards the users with larger number of contribution. Generally,  a large number of less active users contribute corrections and small additions to the map.\n",
    "\n",
    "Top 10 users combinedly make 32% of total contribution to the map."
   ]
  },
  {
   "cell_type": "markdown",
   "metadata": {},
   "source": [
    "## Exploring Information from the dataset\n",
    "-------"
   ]
  },
  {
   "cell_type": "markdown",
   "metadata": {},
   "source": [
    "**Amenities**\n",
    "\n",
    "The following query finds out the top 20 amenities in the city. The result shows that *place_of_worship* tops the list and restaurant, banks, schools etc are the one that follows it.\n",
    "\n",
    "``` mysql\n",
    "SELECT value, count(value)\n",
    "FROM(SELECT value FROM nodes_tags WHERE key = \"amenity\" UNION ALL SELECT value FROM ways_tags WHERE key = \"amenity\")\n",
    "GROUP BY value \n",
    "ORDER BY count(value)DESC \n",
    "LIMIT 20; \n",
    "\n",
    "```\n",
    "> 1. place_of_worship || 434 <br>\n",
    "> 2. restaurant       || 385<br>\n",
    "> 3. bank             || 278<br>\n",
    "> 4. school           || 277<br>\n",
    "> 5. hospital         || 172<br>\n",
    "> 6. cafe             || 134<br>\n",
    "> 7. atm              || 116<br>\n",
    "> 8. bus_station      || 116<br>\n",
    "> 9. parking          || 113<br>\n",
    "> 10. fast_food        || 107<br>\n",
    "> 11. fuel             || 104<br>\n",
    "> 12. toilets          || 90<br>\n",
    "> 13. college          || 85<br>\n",
    "> 14. police           || 76<br>\n",
    "> 15. pharmacy         || 66<br>\n",
    "> 16. cinema           || 63<br>\n",
    "> 17. swimming_pool    || 55<br>\n",
    "> 18. post_office      || 46<br>\n",
    "> 19. clinic           || 40<br>\n",
    "> 20. marketplace      || 37<br>\n",
    "\n"
   ]
  },
  {
   "cell_type": "code",
   "execution_count": 118,
   "metadata": {},
   "outputs": [
    {
     "data": {
      "text/plain": [
       "<matplotlib.text.Text at 0x168e3400>"
      ]
     },
     "execution_count": 118,
     "metadata": {},
     "output_type": "execute_result"
    },
    {
     "data": {
      "image/png": "[encoded data removed]",
      "text/plain": [
       "<matplotlib.figure.Figure at 0x164cda20>"
      ]
     },
     "metadata": {},
     "output_type": "display_data"
    }
   ],
   "source": [
    "tourism = pd.DataFrame([434,385,278,277,172,134,116,116,113,107,104,90,85,76,66,63,55,46,40,37],\n",
    "                       index= ['place_of_worship', 'Restaurant', 'Bank', 'School','Hospital', 'cafe','atm',\n",
    "                               'bus_station','parking','fast_food','fuel','toilet','college','police','pharmacy',\n",
    "                               'cinema','swimming_pool','post_office','clinic','market_place'])\n",
    "\n",
    "a4_dims = (11.7, 4)\n",
    "tourism.plot(kind = 'bar',title = 'Number of Amenties in the city', color=sns.color_palette(\"Reds_d\"),\n",
    "             figsize=a4_dims,fontsize = 12 )\n",
    "plt.xlabel('Amenties')\n",
    "plt.ylabel('Quantity in numbers')"
   ]
  },
  {
   "cell_type": "markdown",
   "metadata": {},
   "source": [
    "**Popular kinds of places that attract tourism tourism **\n",
    "\n",
    "The following query find what are the top 10 kinds of places which are affected by tourism. This list includes, hotels, place of attraction, artwork, viewpoints etc.\n",
    "```mysql\n",
    "SELECT value, count(value) \n",
    "FROM(SELECT key, value FROM nodes_tags where key = \"tourism\" UNION ALL SELECT key, value FROM ways_tags where key =\"tourism\") GROUP BY value\n",
    "ORDER BY count(value) DESC\n",
    "LIMIT 10;\n",
    "```\n",
    "\n",
    "> hotel       || 215<br>\n",
    "> attraction || 70 <br>\n",
    ">  hostel || 37<br>\n",
    ">  guest_house || 26<br>\n",
    ">  artwork || 7<br>\n",
    "> museum || 7<br>\n",
    "> information || 6<br>\n",
    ">  viewpoint || 6<br>\n",
    ">  theme_park || 4<br>\n",
    ">  camp_site || 3<br>"
   ]
  },
  {
   "cell_type": "code",
   "execution_count": 117,
   "metadata": {
    "scrolled": true
   },
   "outputs": [
    {
     "data": {
      "text/plain": [
       "<matplotlib.text.Text at 0x164c0c18>"
      ]
     },
     "execution_count": 117,
     "metadata": {},
     "output_type": "execute_result"
    },
    {
     "data": {
      "image/png": "[encoded data removed]",
      "text/plain": [
       "<matplotlib.figure.Figure at 0x154226a0>"
      ]
     },
     "metadata": {},
     "output_type": "display_data"
    }
   ],
   "source": [
    "\n",
    "tourism = pd.DataFrame([215,70,37,26,7,7,6,6,4,3],index= ['Hotel', 'Attraction', 'Hostel', 'guest_house','Artwork', \n",
    "    'museum','information','viewpoint','theme_park','camp_site'])\n",
    "\n",
    "a4_dims = (11.7, 4)\n",
    "tourism.plot(kind = 'bar',title = 'Number of each tourist influenced places',\n",
    "             color=sns.color_palette(\"Greens_d\"), figsize=a4_dims,fontsize = 12 )\n",
    "\n",
    "plt.xlabel('Categories under the influence of tourism')\n",
    "plt.ylabel('Quantity in numbers')"
   ]
  },
  {
   "cell_type": "markdown",
   "metadata": {},
   "source": [
    "**Transportation**\n",
    "\n",
    "The following query explains the transportation system of the city. It counts the number of aeroways, highways, waterways, bridge and railways.\n",
    "\n",
    "Although, there is a limitation of this count, that it only includes the attribute values which are of major importance.\n",
    "\n",
    "For example: Considering **highways**, *trunk* is the most important roads in a country's system that aren't motorways. *Primary(link larger towns), secondary(link town), tertiary(link small towns and village)* are the next important roads in a country's system in succession.\n",
    "\n",
    "Other less important roads are footway, cyclepaths, lane etc are not included in this count.\n",
    "\n",
    "Similarly,the count of railways, waterway, bridge, aeroway includes the most important attribute values.\n",
    "\n",
    "```mysql\n",
    "SELECT key, count(key)\n",
    "FROM\n",
    "(SELECT * FROM ways_tags union select * FROM nodes_tags)WHERE \n",
    "key = \"highway\" and value in (\"trunk\", \"road\", \"primary\", \"secondary\", \"tertiary\")OR\n",
    "key = \"railway\" and value in (\"rail\", \"subway\", \"tram\") OR\n",
    "key =\"waterway\" and value in (\"river\",\"riverbank\", \"canal\", \"drain\", \"dam\") OR\n",
    "key = \"bridge\" and value in (\"aqueduct\", \"covered\", \"trestle\", \"viaduct\")OR\n",
    "key=\"aeroway\" and value = \"aerodrome\"\n",
    "GROUP BY key \n",
    "ORDER BY count(key);\n",
    "```\n",
    "> aeroway || 2 <br>\n",
    "  bridge || 36 <br>\n",
    "  waterway || 300<br>\n",
    "  railway || 651<br>\n",
    "  highway || 2909<br>\n",
    "  \n"
   ]
  },
  {
   "cell_type": "code",
   "execution_count": 116,
   "metadata": {},
   "outputs": [
    {
     "data": {
      "text/plain": [
       "<matplotlib.text.Text at 0x15a09550>"
      ]
     },
     "execution_count": 116,
     "metadata": {},
     "output_type": "execute_result"
    },
    {
     "data": {
      "image/png": "[encoded data removed]",
      "text/plain": [
       "<matplotlib.figure.Figure at 0x15f5e1d0>"
      ]
     },
     "metadata": {},
     "output_type": "display_data"
    }
   ],
   "source": [
    "transport = pd.DataFrame([2,36,300,651,2909],index= ['aeroway', 'bridge', 'waterway', 'railway','highway'])\n",
    "\n",
    "#plt.bar(tourism, title = 'Number of tourist influenced places', color=sns.color_palette(\"Blues\"))\n",
    "a4_dims = (11.7, 4.5)\n",
    "transport.plot(kind = 'barh',title = 'Number of each mode of transportation in the city',\n",
    "             color=sns.color_palette(\"Purples_d\"),figsize=a4_dims,fontsize = 12 )\n",
    "plt.ylabel('Modes of transport')\n",
    "plt.xlabel('Quantity in numbers')"
   ]
  },
  {
   "cell_type": "markdown",
   "metadata": {
    "collapsed": true
   },
   "source": [
    "**Natural heritage**\n",
    "\n",
    "The following query finds brings about the natural property of the city. It has alot of trees, wetland, grasslands, woods, coastlines etc.\n",
    "\n",
    "```mysql\n",
    "SELECT value, count(value)\n",
    " FROM \n",
    "(SELECT * FROM nodes_tags UNION ALL SELECT * FROM ways_tags) \n",
    "GROUP BY value HAVING key = \"natural\";\n",
    "```\n",
    "\n",
    " > bare_rock || 4<br>\n",
    " > bay || 1<br>\n",
    " > beach || 11<br>\n",
    " > cape ||  1<br>\n",
    " > cave_entrance || 1<br>\n",
    " > cliff || 7<br>\n",
    " > coastline || 66<br>\n",
    " > grassland || 57<br>\n",
    " > mud || 5<br>\n",
    " > peak || 9<br>\n",
    " > scrub || 13<br>\n",
    " > spring || 1<br>\n",
    " > tree || 2578<br>\n",
    " > water || 159<br>\n",
    " > wetland || 92<br>\n",
    " > wood || 57<br>\n"
   ]
  },
  {
   "cell_type": "code",
   "execution_count": 115,
   "metadata": {},
   "outputs": [
    {
     "data": {
      "text/plain": [
       "<matplotlib.text.Text at 0x15c95f28>"
      ]
     },
     "execution_count": 115,
     "metadata": {},
     "output_type": "execute_result"
    },
    {
     "data": {
      "image/png": "[encoded data removed]",
      "text/plain": [
       "<matplotlib.figure.Figure at 0x15f5e0b8>"
      ]
     },
     "metadata": {},
     "output_type": "display_data"
    }
   ],
   "source": [
    "nature= pd.DataFrame([4,1,11,1,1,7,66,57,5,9,13,1,2578,159,92,57],\n",
    "                       index= ['bare_rock', 'bay', 'beach', 'cape','cave_entrance','cliff','coastlines',\n",
    "                               'grassland','mud','peak','scrub','spring','tree','water','wetland','wood'])\n",
    "\n",
    "\n",
    "a4_dims = (11.7, 4.5)\n",
    "nature.plot(kind = 'line',title = 'Number of natural heritage in the city', figsize=a4_dims, fontsize = 12 )\n",
    "plt.ylabel('Natural Heritage')\n",
    "plt.xlabel('Quantity in numbers')"
   ]
  },
  {
   "cell_type": "markdown",
   "metadata": {},
   "source": [
    "**Popular Religions**\n",
    "\n",
    "The five most popular religion in the city are turned out to be Hinduism, Islam, Christianity, Buddhism and Jainism.\n",
    "The number depicts the number of place_of_worship for each religion.\n",
    "\n",
    "``` mysql\n",
    "\n",
    "SELECT value, count(value)\n",
    "FROM\n",
    "(SELECT value FROM nodes_tags WHERE key = \"religion\" UNION ALL SELECT value FROM ways_tags where key = \"religion\")\n",
    "GROUP BY value\n",
    "ORDER BY count(value) DESC\n",
    "LIMIT 5);\n",
    "\n",
    "```\n",
    "\n",
    "> hindu || 135<br>\n",
    "> muslim  || 105<br>\n",
    "> christian  ||  69<br>\n",
    "> buddhist   || 19<br>\n",
    "> jain  || 11<br>"
   ]
  },
  {
   "cell_type": "code",
   "execution_count": 114,
   "metadata": {},
   "outputs": [
    {
     "data": {
      "text/plain": [
       "<matplotlib.text.Text at 0x15ba5630>"
      ]
     },
     "execution_count": 114,
     "metadata": {},
     "output_type": "execute_result"
    },
    {
     "data": {
      "image/png": "[encoded data removed]",
      "text/plain": [
       "<matplotlib.figure.Figure at 0x15b98390>"
      ]
     },
     "metadata": {},
     "output_type": "display_data"
    }
   ],
   "source": [
    "religion = pd.DataFrame([135,105,69,19,11],index= ['hindu', 'muslim', 'christian', 'buddhist','jain'])\n",
    "\n",
    "#plt.bar(tourism, title = 'Number of tourist influenced places', color=sns.color_palette(\"Blues\"))\n",
    "a4_dims = (11.7, 4.5)\n",
    "religion.plot(kind = 'bar',title = 'Popularity of differnt types of religion', color=sns.color_palette(\"coolwarm\"),\n",
    "              figsize=a4_dims, fontsize = 12)\n",
    "plt.ylabel('Types of religion')\n",
    "plt.xlabel('Quantity in numbers')"
   ]
  },
  {
   "cell_type": "markdown",
   "metadata": {},
   "source": [
    "## Other ideas about the dataset\n",
    "----"
   ]
  },
  {
   "cell_type": "markdown",
   "metadata": {},
   "source": [
    "A **way** contains nodes between 2 to 2000 in numbers. \n",
    "Although, a **way** which containes zero or only one node is a **faulty way**.\n",
    "It is found that this dataset contains 83 faulty ways.\n",
    "\n",
    "``` mysql\n",
    "SELECT count(*) FROM\n",
    "(SELECT id, count(position) from ways_nodes GROUP BY id HAVING count(position) = 1);\n",
    "```\n",
    "> 83\n",
    "\n",
    "It is required to come up with a solution to deal with faulty ways. However, this problem can be corrected manually and not programmetically.\n",
    "\n",
    "**Suggested Solutions**\n",
    "\n",
    "> 1. Google maps is supported and can be invoked with OSM tiles. There is a fair chance that we can use Google APIs to deal with faulty ways.\n",
    "\n",
    "> 2. Geographic Information System(GIS) is a critical component in preparing and validating map dataset. There exist a GeoComm system that has a systematic process in place that assist in improving data.\n",
    "\n",
    "**Benefits**\n",
    "> Better identification of ways or locations.\n",
    "\n",
    "> Improves the accuracy of the dataset.\n",
    "\n",
    "> Minimum number of misleading paths, thus providing security, because maps are used for leading in right direction.\n",
    "\n",
    "> We may get additional useful information about the way or location.\n",
    "\n",
    "> Improved goodwill for providing reliable guidance.\n",
    "\n",
    "**Anticipated Problems in implementing the improvement**\n",
    "\n",
    "> Requirement of an improvement plan.\n",
    "\n",
    "> Requirement of experience and expertise having in-depth knowledge in GIS.\n",
    "\n",
    "> Need to review the existing data schema and models.\n",
    "\n",
    "> Need of data coodination so that the integrity of the dataset is not violated."
   ]
  },
  {
   "cell_type": "markdown",
   "metadata": {},
   "source": [
    "## Conclusion\n",
    "-----------\n",
    "The analysis of this dataset gives the true sense of data wrangling. This dataset is bound to have dirty data because of it is human entered. Although, this can be a  perfect dataset to explore the art of data wrangling but sometimes it renders it impossible to clean every problem. \n",
    "\n",
    "This dataset has been extracted using custom method from openstreetmap.org.  It’s obvious that the Mumbai area is incomplete, though I believe it has been well cleaned for the purposes of this project.\n"
   ]
  },
  {
   "cell_type": "markdown",
   "metadata": {},
   "source": [
    "## References\n",
    "------\n",
    "\n",
    "I refered the following links which helped me a lot in completing this project.\n",
    "\n",
    "[Udacity discussion forum](https://discussions.udacity.com/c/nd002-data-wrangling)<br>\n",
    "[Stackoverflow](www.stackoverflow.com)<br>\n",
    "[ISO codes for different natural languages](http://www.science.co.il/language/Codes.php) <br>\n",
    "[Verified Mumbai_City Postcodes](http://www.geopostcodes.com/Mumbai_City)<br>\n",
    "[Mapzen extract](https://mapzen.com/data/metro-extracts/)<br>\n",
    "[Git hub repository for sample-project](https://gist.github.com/carlward/54ec1c91b62a5f911c42#file-sample_project-md)<br>\n",
    "[Git hub repository for database schema](https://gist.github.com/swwelch/f1144229848b407e0a5d13fcb7fbbd6f)<br>\n",
    "[OSM Wikipedia](https://en.wikipedia.org/wiki/OpenStreetMap)<br>\n",
    "[Markdown Cheetsheet](http://datascience.ibm.com/blog/markdown-for-jupyter-notebooks-cheatsheet/)"
   ]
  },
  {
   "cell_type": "code",
   "execution_count": 107,
   "metadata": {},
   "outputs": [
    {
     "data": {
      "text/html": [
       "<style>\n",
       ".rendered_html pre, \n",
       ".rendered_html code{\n",
       "background-color:#cce6ff;\n",
       "padding: 4px;\n",
       "}</style>\n"
      ],
      "text/plain": [
       "<IPython.core.display.HTML object>"
      ]
     },
     "execution_count": 107,
     "metadata": {},
     "output_type": "execute_result"
    }
   ],
   "source": [
    "%matplotlib inline\n",
    "\n",
    "import matplotlib as mpl\n",
    "import matplotlib.pyplot as plt\n",
    "import numpy as np\n",
    "import pandas as pd\n",
    "import seaborn as sns\n",
    "\n",
    "# code to display the markdowm in a highlighted manner\n",
    "from IPython.display import HTML\n",
    "HTML('''<style>\n",
    ".rendered_html pre, \n",
    ".rendered_html code{\n",
    "background-color:#cce6ff;\n",
    "padding: 4px;\n",
    "}</style>\n",
    "''')"
   ]
  },
  {
   "cell_type": "code",
   "execution_count": null,
   "metadata": {
    "collapsed": true
   },
   "outputs": [],
   "source": []
  }
 ],
 "metadata": {
  "kernelspec": {
   "display_name": "Python 2",
   "language": "python",
   "name": "python2"
  },
  "language_info": {
   "codemirror_mode": {
    "name": "ipython",
    "version": 2
   },
   "file_extension": ".py",
   "mimetype": "text/x-python",
   "name": "python",
   "nbconvert_exporter": "python",
   "pygments_lexer": "ipython2",
   "version": "2.7.13"
  }
 },
 "nbformat": 4,
 "nbformat_minor": 2
}
